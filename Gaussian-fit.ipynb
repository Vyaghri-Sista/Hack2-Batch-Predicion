{
 "cells": [
  {
   "cell_type": "code",
   "execution_count": 1,
   "metadata": {},
   "outputs": [],
   "source": [
    "import pandas as pd\n",
    "import numpy as np\n",
    "import matplotlib.pyplot as plt\n",
    "import seaborn as sns\n",
    "%matplotlib inline"
   ]
  },
  {
   "cell_type": "code",
   "execution_count": 6,
   "metadata": {},
   "outputs": [
    {
     "data": {
      "text/html": [
       "<div>\n",
       "<style scoped>\n",
       "    .dataframe tbody tr th:only-of-type {\n",
       "        vertical-align: middle;\n",
       "    }\n",
       "\n",
       "    .dataframe tbody tr th {\n",
       "        vertical-align: top;\n",
       "    }\n",
       "\n",
       "    .dataframe thead th {\n",
       "        text-align: right;\n",
       "    }\n",
       "</style>\n",
       "<table border=\"1\" class=\"dataframe\">\n",
       "  <thead>\n",
       "    <tr style=\"text-align: right;\">\n",
       "      <th></th>\n",
       "      <th>0.0</th>\n",
       "      <th>1.0</th>\n",
       "      <th>2.0</th>\n",
       "      <th>3.0</th>\n",
       "      <th>4.0</th>\n",
       "      <th>5.0</th>\n",
       "      <th>6.0</th>\n",
       "      <th>7.0</th>\n",
       "      <th>8.0</th>\n",
       "      <th>9.0</th>\n",
       "      <th>...</th>\n",
       "      <th>47.0</th>\n",
       "      <th>48.0</th>\n",
       "      <th>49.0</th>\n",
       "      <th>50.0</th>\n",
       "      <th>51.0</th>\n",
       "      <th>52.0</th>\n",
       "      <th>53.0</th>\n",
       "      <th>54.0</th>\n",
       "      <th>y2</th>\n",
       "      <th>Id</th>\n",
       "    </tr>\n",
       "  </thead>\n",
       "  <tbody>\n",
       "    <tr>\n",
       "      <th>0</th>\n",
       "      <td>760.244080</td>\n",
       "      <td>0.937269</td>\n",
       "      <td>1.0</td>\n",
       "      <td>22.056471</td>\n",
       "      <td>6.728571</td>\n",
       "      <td>748.549404</td>\n",
       "      <td>789.804275</td>\n",
       "      <td>811.182847</td>\n",
       "      <td>4.4</td>\n",
       "      <td>0.269143</td>\n",
       "      <td>...</td>\n",
       "      <td>0.857143</td>\n",
       "      <td>700.196065</td>\n",
       "      <td>119.060403</td>\n",
       "      <td>14.758329</td>\n",
       "      <td>878.637498</td>\n",
       "      <td>646.594635</td>\n",
       "      <td>89.693307</td>\n",
       "      <td>1.892407</td>\n",
       "      <td>0.72</td>\n",
       "      <td>706</td>\n",
       "    </tr>\n",
       "    <tr>\n",
       "      <th>1</th>\n",
       "      <td>757.366380</td>\n",
       "      <td>1.379567</td>\n",
       "      <td>1.0</td>\n",
       "      <td>26.895488</td>\n",
       "      <td>6.500000</td>\n",
       "      <td>749.596987</td>\n",
       "      <td>845.599976</td>\n",
       "      <td>840.799988</td>\n",
       "      <td>4.5</td>\n",
       "      <td>0.279756</td>\n",
       "      <td>...</td>\n",
       "      <td>0.928571</td>\n",
       "      <td>547.953130</td>\n",
       "      <td>132.105129</td>\n",
       "      <td>19.044833</td>\n",
       "      <td>886.672018</td>\n",
       "      <td>712.281086</td>\n",
       "      <td>74.327068</td>\n",
       "      <td>1.913206</td>\n",
       "      <td>0.62</td>\n",
       "      <td>239</td>\n",
       "    </tr>\n",
       "    <tr>\n",
       "      <th>2</th>\n",
       "      <td>757.052327</td>\n",
       "      <td>0.864291</td>\n",
       "      <td>1.0</td>\n",
       "      <td>22.271551</td>\n",
       "      <td>6.900000</td>\n",
       "      <td>820.260866</td>\n",
       "      <td>793.147153</td>\n",
       "      <td>815.468561</td>\n",
       "      <td>4.4</td>\n",
       "      <td>0.209458</td>\n",
       "      <td>...</td>\n",
       "      <td>0.571429</td>\n",
       "      <td>547.210846</td>\n",
       "      <td>109.675539</td>\n",
       "      <td>13.939582</td>\n",
       "      <td>861.906494</td>\n",
       "      <td>676.498573</td>\n",
       "      <td>87.959533</td>\n",
       "      <td>2.052945</td>\n",
       "      <td>0.57</td>\n",
       "      <td>613</td>\n",
       "    </tr>\n",
       "    <tr>\n",
       "      <th>3</th>\n",
       "      <td>760.571769</td>\n",
       "      <td>0.808450</td>\n",
       "      <td>1.0</td>\n",
       "      <td>28.319341</td>\n",
       "      <td>6.900000</td>\n",
       "      <td>753.283047</td>\n",
       "      <td>793.147153</td>\n",
       "      <td>815.468561</td>\n",
       "      <td>4.4</td>\n",
       "      <td>0.181063</td>\n",
       "      <td>...</td>\n",
       "      <td>0.857143</td>\n",
       "      <td>630.162187</td>\n",
       "      <td>137.102413</td>\n",
       "      <td>14.898321</td>\n",
       "      <td>871.835244</td>\n",
       "      <td>653.640959</td>\n",
       "      <td>88.314801</td>\n",
       "      <td>1.940227</td>\n",
       "      <td>1.01</td>\n",
       "      <td>588</td>\n",
       "    </tr>\n",
       "    <tr>\n",
       "      <th>4</th>\n",
       "      <td>768.801759</td>\n",
       "      <td>0.822851</td>\n",
       "      <td>1.0</td>\n",
       "      <td>19.236735</td>\n",
       "      <td>6.814286</td>\n",
       "      <td>760.840050</td>\n",
       "      <td>775.918551</td>\n",
       "      <td>766.868551</td>\n",
       "      <td>4.4</td>\n",
       "      <td>0.290602</td>\n",
       "      <td>...</td>\n",
       "      <td>0.714286</td>\n",
       "      <td>497.926779</td>\n",
       "      <td>91.554997</td>\n",
       "      <td>14.059461</td>\n",
       "      <td>855.777351</td>\n",
       "      <td>640.448159</td>\n",
       "      <td>87.042743</td>\n",
       "      <td>2.248662</td>\n",
       "      <td>-0.42</td>\n",
       "      <td>780</td>\n",
       "    </tr>\n",
       "  </tbody>\n",
       "</table>\n",
       "<p>5 rows × 57 columns</p>\n",
       "</div>"
      ],
      "text/plain": [
       "          0.0       1.0  2.0        3.0       4.0         5.0         6.0  \\\n",
       "0  760.244080  0.937269  1.0  22.056471  6.728571  748.549404  789.804275   \n",
       "1  757.366380  1.379567  1.0  26.895488  6.500000  749.596987  845.599976   \n",
       "2  757.052327  0.864291  1.0  22.271551  6.900000  820.260866  793.147153   \n",
       "3  760.571769  0.808450  1.0  28.319341  6.900000  753.283047  793.147153   \n",
       "4  768.801759  0.822851  1.0  19.236735  6.814286  760.840050  775.918551   \n",
       "\n",
       "          7.0  8.0       9.0  ...      47.0        48.0        49.0  \\\n",
       "0  811.182847  4.4  0.269143  ...  0.857143  700.196065  119.060403   \n",
       "1  840.799988  4.5  0.279756  ...  0.928571  547.953130  132.105129   \n",
       "2  815.468561  4.4  0.209458  ...  0.571429  547.210846  109.675539   \n",
       "3  815.468561  4.4  0.181063  ...  0.857143  630.162187  137.102413   \n",
       "4  766.868551  4.4  0.290602  ...  0.714286  497.926779   91.554997   \n",
       "\n",
       "        50.0        51.0        52.0       53.0      54.0    y2   Id  \n",
       "0  14.758329  878.637498  646.594635  89.693307  1.892407  0.72  706  \n",
       "1  19.044833  886.672018  712.281086  74.327068  1.913206  0.62  239  \n",
       "2  13.939582  861.906494  676.498573  87.959533  2.052945  0.57  613  \n",
       "3  14.898321  871.835244  653.640959  88.314801  1.940227  1.01  588  \n",
       "4  14.059461  855.777351  640.448159  87.042743  2.248662 -0.42  780  \n",
       "\n",
       "[5 rows x 57 columns]"
      ]
     },
     "execution_count": 6,
     "metadata": {},
     "output_type": "execute_result"
    }
   ],
   "source": [
    "# Original Train data\n",
    "Or_data=pd.read_csv('train.csv')\n",
    "\n",
    "\n",
    "# Taking average over time stamps t0-t6\n",
    "Avg_data=pd.DataFrame()\n",
    "i=0\n",
    "\n",
    "while i <= 384:\n",
    "    df=Or_data.iloc[:,i+1:i+8].mean(axis=1)\n",
    "#     if i < 8:\n",
    "#         n=0\n",
    "#     else: \n",
    "#         n=(i-1)/7\n",
    "    \n",
    "    Avg_data[i/7]=df\n",
    "    #print(i, df_train.columns[i])\n",
    "    i +=7\n",
    "Avg_data['y2'] = Or_data['y2']\n",
    "Avg_data['Id'] = Or_data['Id']\n",
    "\n",
    "Avg_data.head()"
   ]
  },
  {
   "cell_type": "markdown",
   "metadata": {},
   "source": [
    "# Now converting each row to normal distribution"
   ]
  },
  {
   "cell_type": "code",
   "execution_count": 107,
   "metadata": {},
   "outputs": [],
   "source": [
    "Con_data=Avg_data.iloc[:,0:-1]\n",
    "from sklearn.preprocessing import StandardScaler\n",
    "\n",
    "data_trans = StandardScaler().fit_transform(Con_data)\n",
    "\n",
    "Con_data.to_csv('dat.csv')\n",
    "pd.DataFrame(data_trans).to_csv(\"moddat.csv\")\n",
    "# Making Data-frame of Transformed data\n",
    "df2=pd.DataFrame(data_trans,index=[i for i in range(data_trans.shape[0])],columns=['x_'+str(i) for i in range(data_trans.shape[1]) ])\n",
    "\n",
    "# To rename the column x_55 to y2\n",
    "df2.rename(columns = {'x_55': 'y2'}, inplace = True)"
   ]
  },
  {
   "cell_type": "markdown",
   "metadata": {},
   "source": [
    "# preparing the dataset for taking covariance matrix"
   ]
  },
  {
   "cell_type": "code",
   "execution_count": 26,
   "metadata": {},
   "outputs": [],
   "source": [
    "df3=df2.iloc[:,0:-1]\n",
    "\n",
    "# Calculating the covMatrix\n",
    "data = np.array(df3)\n",
    "#data=np.transpose(data)\n",
    "covMatrix = np.cov(data,rowvar=False,bias=False)\n",
    "#covMatrix.shape\n",
    "#print (covMatrix) \n",
    "#inva_covMat=np.linalg.inv(covMatrix) \n"
   ]
  },
  {
   "cell_type": "markdown",
   "metadata": {},
   "source": [
    "# Diagonalize the matrix\n",
    "use svd technique"
   ]
  },
  {
   "cell_type": "code",
   "execution_count": 103,
   "metadata": {},
   "outputs": [
    {
     "name": "stdout",
     "output_type": "stream",
     "text": [
      "[[ 1.00098952e+00 -1.62216162e-01 -3.95108158e-02 ... -2.70187441e-01\n",
      "  -1.34911372e-01 -3.30766275e-01]\n",
      " [-1.62216162e-01  1.00105212e+00  5.46463972e-02 ...  1.15109098e-01\n",
      "   2.63140462e-01  4.18959406e-01]\n",
      " [-3.95108158e-02  5.46463972e-02  1.00056826e+00 ...  6.86369289e-02\n",
      "  -2.64786127e-02 -7.35975740e-04]\n",
      " ...\n",
      " [-2.70187441e-01  1.15109098e-01  6.86369289e-02 ...  1.00084252e+00\n",
      "   3.09975255e-01  5.25972892e-01]\n",
      " [-1.34911372e-01  2.63140462e-01 -2.64786127e-02 ...  3.09975255e-01\n",
      "   1.00070369e+00  5.10546580e-01]\n",
      " [-3.30766275e-01  4.18959406e-01 -7.35975740e-04 ...  5.25972892e-01\n",
      "   5.10546580e-01  1.00062521e+00]]\n",
      "[[1.00098952 0.         0.         ... 0.         0.         0.        ]\n",
      " [0.         1.00105212 0.         ... 0.         0.         0.        ]\n",
      " [0.         0.         1.00056826 ... 0.         0.         0.        ]\n",
      " ...\n",
      " [0.         0.         0.         ... 1.00084252 0.         0.52597289]\n",
      " [0.         0.         0.         ... 0.         1.00070369 0.51054658]\n",
      " [0.         0.         0.         ... 0.52597289 0.51054658 1.00062521]]\n"
     ]
    }
   ],
   "source": [
    "u, s, vh = np.linalg.svd(data, full_matrices=True)\n",
    "\n",
    "new_data=np.dot(np.transpose(u),data)\n",
    "new_data.shape\n",
    "\n",
    "\n",
    "Mod_covMatrix = np.cov(new_data,rowvar=False,bias=False)\n",
    "print(Mod_covMatrix)\n",
    "# print(np.linalg.det(Mod_covMatrix))\n",
    "# inva_covMat=np.linalg.inv(Mod_covMatrix)\n",
    "B = np.linalg.pinv(Mod_covMatrix)\n",
    "B\n",
    "Mod_covMatrix = np.where(Mod_covMatrix < 0.50, 0, Mod_covMatrix)\n",
    "print(Mod_covMatrix)"
   ]
  },
  {
   "cell_type": "code",
   "execution_count": 89,
   "metadata": {},
   "outputs": [
    {
     "data": {
      "text/plain": [
       "array([[91.15229893,  0.        ,  0.        , ...,  0.        ,\n",
       "         0.        ,  0.        ],\n",
       "       [ 0.        , 69.01885527,  0.        , ...,  0.        ,\n",
       "         0.        ,  0.        ],\n",
       "       [ 0.        ,  0.        , 62.36293377, ...,  0.        ,\n",
       "         0.        ,  0.        ],\n",
       "       ...,\n",
       "       [ 0.        ,  0.        ,  0.        , ...,  0.        ,\n",
       "         0.        ,  0.        ],\n",
       "       [ 0.        ,  0.        ,  0.        , ...,  0.        ,\n",
       "         0.        ,  0.        ],\n",
       "       [ 0.        ,  0.        ,  0.        , ...,  0.        ,\n",
       "         0.        ,  0.        ]])"
      ]
     },
     "execution_count": 89,
     "metadata": {},
     "output_type": "execute_result"
    }
   ],
   "source": [
    "# dat=np.transpose(data)\n",
    "\n",
    "# Y=np.dot(data,covMatrix,dat)\n",
    "\n",
    "# u, s, vh = np.linalg.svd(covMatrix, full_matrices=True)\n",
    "da=Avg_data.iloc[:,0:-2]\n",
    "da.head()\n",
    "\n",
    "u, s, vh = np.linalg.svd(data, full_matrices=True)\n",
    "#print(np.dot(np.transpose(vh),vh))\n",
    "#u.shape[0]\n",
    "# import numpy as np\n",
    "Sigma = np.zeros((u.shape[0], vh.shape[0]))\n",
    "Sigma.shape\n",
    "for i in range(vh.shape[0]):\n",
    "    Sigma[i, i] = s[i]\n",
    "da1=np.dot(np.dot(u,Sigma),np.transpose(vh))\n",
    "# print(da1)\n",
    "Sigma\n",
    "\n",
    "# print('u dimension',u.shape)\n",
    "# print('v dimension',vh.shape)\n",
    "# print('s dimension',s.shape)\n",
    "# Tr_dat=np.dot(vh,np.transpose(da))\n",
    "\n",
    "# tr_dat=np.transpose(Tr_dat)\n",
    "# tr_dat.shape\n",
    "\n",
    "# Tr_covMat = np.cov(tr_dat,rowvar=False,bias=False)\n",
    "# print(Tr_covMat)"
   ]
  },
  {
   "cell_type": "code",
   "execution_count": 40,
   "metadata": {},
   "outputs": [],
   "source": [
    "# Making Data-frame of Transformed data\n",
    "df4=pd.DataFrame(u,index=[i for i in range(u.shape[0])],columns=['x_'+str(i) for i in range(u.shape[1]) ])"
   ]
  },
  {
   "cell_type": "code",
   "execution_count": 44,
   "metadata": {},
   "outputs": [
    {
     "data": {
      "text/plain": [
       "(794, 794)"
      ]
     },
     "execution_count": 44,
     "metadata": {},
     "output_type": "execute_result"
    }
   ],
   "source": [
    "df4.shape"
   ]
  },
  {
   "cell_type": "code",
   "execution_count": 49,
   "metadata": {},
   "outputs": [
    {
     "data": {
      "text/plain": [
       "(794, 54)"
      ]
     },
     "execution_count": 49,
     "metadata": {},
     "output_type": "execute_result"
    }
   ],
   "source": [
    "from sklearn.decomposition import PCA \n",
    "\n",
    "pca = PCA(0.9999999)\n",
    "\n",
    "pca.fit(data)\n",
    "\n",
    "pca.n_components_ \n",
    "\n",
    "X_trans_new = pca.transform(data)\n",
    "X_trans_new.shape"
   ]
  },
  {
   "cell_type": "code",
   "execution_count": 55,
   "metadata": {},
   "outputs": [
    {
     "data": {
      "text/plain": [
       "(54, 794)"
      ]
     },
     "execution_count": 55,
     "metadata": {},
     "output_type": "execute_result"
    }
   ],
   "source": [
    "covMat = np.cov(X_trans_new,rowvar=False,bias=False)\n",
    "inva_covMat=np.linalg.inv(covMat)\n",
    "inva_covMat.shape\n",
    "dat=np.transpose(X_trans_new)\n",
    "dat.shape"
   ]
  },
  {
   "cell_type": "code",
   "execution_count": 57,
   "metadata": {},
   "outputs": [],
   "source": [
    "Y=np.dot(np.dot(X_trans_new,inva_covMat),dat)"
   ]
  },
  {
   "cell_type": "code",
   "execution_count": 59,
   "metadata": {},
   "outputs": [
    {
     "data": {
      "text/plain": [
       "2858"
      ]
     },
     "execution_count": 59,
     "metadata": {},
     "output_type": "execute_result"
    }
   ],
   "source": [
    "np.count_nonzero(covMat - np.diag(np.diagonal(covMat)))\n"
   ]
  },
  {
   "cell_type": "code",
   "execution_count": null,
   "metadata": {},
   "outputs": [],
   "source": []
  }
 ],
 "metadata": {
  "kernelspec": {
   "display_name": "Python 3",
   "language": "python",
   "name": "python3"
  },
  "language_info": {
   "codemirror_mode": {
    "name": "ipython",
    "version": 3
   },
   "file_extension": ".py",
   "mimetype": "text/x-python",
   "name": "python",
   "nbconvert_exporter": "python",
   "pygments_lexer": "ipython3",
   "version": "3.8.3"
  }
 },
 "nbformat": 4,
 "nbformat_minor": 4
}
